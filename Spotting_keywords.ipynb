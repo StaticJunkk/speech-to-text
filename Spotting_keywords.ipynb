{
 "cells": [
  {
   "cell_type": "code",
   "execution_count": 56,
   "metadata": {},
   "outputs": [],
   "source": [
    "\n",
    "import tensorflow.keras as keras\n",
    "import numpy as np\n",
    "import librosa as lb\n",
    "\n",
    "\n",
    "    "
   ]
  },
  {
   "cell_type": "code",
   "execution_count": 49,
   "metadata": {},
   "outputs": [],
   "source": [
    "model_path = \"model.h5\""
   ]
  },
  {
   "cell_type": "code",
   "execution_count": 50,
   "metadata": {},
   "outputs": [],
   "source": [
    "NUM_SAMPLES = 22050"
   ]
  },
  {
   "cell_type": "code",
   "execution_count": 51,
   "metadata": {},
   "outputs": [],
   "source": [
    "class _spotting_keywords:\n",
    "    \n",
    "    model = None\n",
    "    \n",
    "    mappings = [\"bed\",\n",
    "      \"bird\",\n",
    "      \"cat\",\n",
    "      \"dog\",\n",
    "      \"down\",\n",
    "      \"eight\",\n",
    "      \"five\",\n",
    "      \"four\",\n",
    "      \"go\",\n",
    "      \"happy\",\n",
    "      \"house\",\n",
    "      \"left\",\n",
    "      \"marvin\",\n",
    "      \"nine\",\n",
    "      \"no\",\n",
    "      \"off\",\n",
    "      \"on\",\n",
    "      \"one\",\n",
    "      \"right\",\n",
    "      \"seven\",\n",
    "      \"sheila\",\n",
    "      \"six\",\n",
    "      \"stop\",\n",
    "      \"three\",\n",
    "      \"tree\",\n",
    "      \"two\",\n",
    "      \"up\",\n",
    "      \"wow\",\n",
    "      \"yes\",\n",
    "      \"zero\",\n",
    "      \"_background_noise_\"]\n",
    "    \n",
    "    _instance = None\n",
    "    \n",
    "    def predict(self, file_path):\n",
    "        MFCCs = self.preprocess(file_path)\n",
    "    \n",
    "        MFCCs = MFCCs[np.newaxis, ..., np.newaxis]\n",
    "    \n",
    "        predictions = self.model.predict(MFCCs)\n",
    "        predicted_index = np.argmax(predictions)\n",
    "    \n",
    "        predicted_keyword = self.mappings[predicted_index]\n",
    "    \n",
    "        return predicted_keyword\n",
    "    \n",
    "    def preprocess(self, file_path, n_mfcc = 13, n_fft = 2048, hop_length  = 512):\n",
    "        signal, sr = lb.load(file_path)\n",
    "        if len(signal)> NUM_SAMPLES:\n",
    "            signal = signal[:NUM_SAMPLES]\n",
    "    \n",
    "        MFCCs = lb.feature.mfcc(signal, n_mfcc = n_mfcc, n_fft = n_fft, hop_length  = hop_length)\n",
    "    \n",
    "        return MFCCs.T\n",
    "    \n",
    "\n",
    "\n",
    "    \n",
    "    "
   ]
  },
  {
   "cell_type": "code",
   "execution_count": 52,
   "metadata": {},
   "outputs": [],
   "source": [
    "def spotting_keywords():\n",
    "    if _spotting_keywords._instance is None:\n",
    "        _spotting_keywords._instance = _spotting_keywords()\n",
    "        _spotting_keywords.model = keras.models.load_model(model_path)\n",
    "            \n",
    "    return _spotting_keywords._instance"
   ]
  },
  {
   "cell_type": "code",
   "execution_count": 53,
   "metadata": {},
   "outputs": [
    {
     "name": "stderr",
     "output_type": "stream",
     "text": [
      "C:\\Users\\Yuvi\\Anaconda3\\lib\\site-packages\\librosa\\core\\audio.py:162: UserWarning: PySoundFile failed. Trying audioread instead.\n",
      "  warnings.warn(\"PySoundFile failed. Trying audioread instead.\")\n"
     ]
    },
    {
     "name": "stdout",
     "output_type": "stream",
     "text": [
      "The audio file corresponds to : up\n"
     ]
    }
   ],
   "source": [
    "if __name__ == \"__main__\":\n",
    "    sp = spotting_keywords()\n",
    "    keyword1 = sp.predict(\"test/up.ogg\")\n",
    "    \n",
    "    print(f\"The audio file corresponds to : {keyword1}\")\n",
    "    \n",
    "  "
   ]
  },
  {
   "cell_type": "code",
   "execution_count": 47,
   "metadata": {},
   "outputs": [],
   "source": []
  },
  {
   "cell_type": "code",
   "execution_count": null,
   "metadata": {},
   "outputs": [],
   "source": []
  }
 ],
 "metadata": {
  "kernelspec": {
   "display_name": "Python 3",
   "language": "python",
   "name": "python3"
  },
  "language_info": {
   "codemirror_mode": {
    "name": "ipython",
    "version": 3
   },
   "file_extension": ".py",
   "mimetype": "text/x-python",
   "name": "python",
   "nbconvert_exporter": "python",
   "pygments_lexer": "ipython3",
   "version": "3.7.4"
  }
 },
 "nbformat": 4,
 "nbformat_minor": 2
}
