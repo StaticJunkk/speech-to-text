{
 "cells": [
  {
   "cell_type": "code",
   "execution_count": 1,
   "metadata": {},
   "outputs": [],
   "source": [
    "import requests\n",
    "import json"
   ]
  },
  {
   "cell_type": "code",
   "execution_count": 41,
   "metadata": {},
   "outputs": [],
   "source": [
    "URL = \"http://127.0.0.1:5000/predict\"\n",
    "TEST_PATH = \"test/up.ogg\"\n",
    "\n"
   ]
  },
  {
   "cell_type": "code",
   "execution_count": 43,
   "metadata": {},
   "outputs": [
    {
     "name": "stdout",
     "output_type": "stream",
     "text": [
      "Predicted : up\n"
     ]
    }
   ],
   "source": [
    "if __name__ == \"__main__\":\n",
    "    audio_file = open(TEST_PATH, \"rb\")\n",
    "    values = {\"file\" : (TEST_PATH, audio_file, \"audio/wav\")}\n",
    "    response = requests.post(URL, files = values)\n",
    "    data = response.json()\n",
    "    \n",
    "    print(\"Predicted : {}\".format(data[\"keyword\"]))"
   ]
  },
  {
   "cell_type": "code",
   "execution_count": null,
   "metadata": {},
   "outputs": [],
   "source": []
  }
 ],
 "metadata": {
  "kernelspec": {
   "display_name": "Python 3",
   "language": "python",
   "name": "python3"
  },
  "language_info": {
   "codemirror_mode": {
    "name": "ipython",
    "version": 3
   },
   "file_extension": ".py",
   "mimetype": "text/x-python",
   "name": "python",
   "nbconvert_exporter": "python",
   "pygments_lexer": "ipython3",
   "version": "3.7.4"
  }
 },
 "nbformat": 4,
 "nbformat_minor": 2
}
